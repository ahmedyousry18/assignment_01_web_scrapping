{
 "cells": [
  {
   "cell_type": "code",
   "execution_count": 75,
   "id": "4a35d4e3",
   "metadata": {},
   "outputs": [],
   "source": [
    "import requests\n",
    "from bs4 import BeautifulSoup\n",
    "import pandas as pd\n",
    "import numpy as np"
   ]
  },
  {
   "cell_type": "code",
   "execution_count": 83,
   "id": "617e6f0c",
   "metadata": {},
   "outputs": [],
   "source": [
    "def clear_arr():\n",
    "    product_title_arr.clear()\n",
    "    product_price_arr.clear()"
   ]
  },
  {
   "cell_type": "code",
   "execution_count": 100,
   "id": "d8c037b8",
   "metadata": {},
   "outputs": [],
   "source": [
    "def replace_str(string, old_string, new_string):\n",
    "    \n",
    "    string = string.replace(f\"{old_string}\", f\"{new_string}\" )\n",
    "    \n",
    "    return string\n",
    "\n"
   ]
  },
  {
   "cell_type": "code",
   "execution_count": 109,
   "id": "cd960294",
   "metadata": {},
   "outputs": [],
   "source": [
    "#Import URL starting from page 1\n",
    "product_title_arr = []\n",
    "product_price_arr = []\n",
    "\n",
    "clear_arr()\n",
    "\n",
    "for i in range(1,4):\n",
    "    url = f'https://webscraper.io/test-sites/e-commerce/static/computers/tablets?page={i}'\n",
    "    response = requests.get(url)\n",
    "    response = response.content\n",
    "    soup = BeautifulSoup(response,'html.parser')\n",
    "    product_titles = soup.find_all('p', {\"class\": \"description\"})\n",
    "    product_prices = soup.find_all('h4', {\"class\": \"pull-right price\"})\n",
    "\n",
    "    for product_title in product_titles:\n",
    "        product_title_arr.append(product_title)\n",
    "        \n",
    "\n",
    "    for product_price in product_prices:\n",
    "        product_price_arr.append(product_price)\n",
    "        \n",
    "\n",
    "\n"
   ]
  },
  {
   "cell_type": "code",
   "execution_count": 110,
   "id": "e8eea5af",
   "metadata": {},
   "outputs": [
    {
     "data": {
      "text/html": [
       "<div>\n",
       "<style scoped>\n",
       "    .dataframe tbody tr th:only-of-type {\n",
       "        vertical-align: middle;\n",
       "    }\n",
       "\n",
       "    .dataframe tbody tr th {\n",
       "        vertical-align: top;\n",
       "    }\n",
       "\n",
       "    .dataframe thead th {\n",
       "        text-align: right;\n",
       "    }\n",
       "</style>\n",
       "<table border=\"1\" class=\"dataframe\">\n",
       "  <thead>\n",
       "    <tr style=\"text-align: right;\">\n",
       "      <th></th>\n",
       "      <th>Product</th>\n",
       "      <th>Price</th>\n",
       "    </tr>\n",
       "  </thead>\n",
       "  <tbody>\n",
       "    <tr>\n",
       "      <th>0</th>\n",
       "      <td>[7\" screen, Android]</td>\n",
       "      <td>[$69.99]</td>\n",
       "    </tr>\n",
       "    <tr>\n",
       "      <th>1</th>\n",
       "      <td>[7\" screen, Android, 16GB]</td>\n",
       "      <td>[$96.99]</td>\n",
       "    </tr>\n",
       "    <tr>\n",
       "      <th>2</th>\n",
       "      <td>[7\" screen, Android, 8GB]</td>\n",
       "      <td>[$102.99]</td>\n",
       "    </tr>\n",
       "    <tr>\n",
       "      <th>3</th>\n",
       "      <td>[6\" screen, wifi]</td>\n",
       "      <td>[$103.99]</td>\n",
       "    </tr>\n",
       "    <tr>\n",
       "      <th>4</th>\n",
       "      <td>[Wi-Fi + Cellular, 32GB, Silver]</td>\n",
       "      <td>[$537.99]</td>\n",
       "    </tr>\n",
       "    <tr>\n",
       "      <th>5</th>\n",
       "      <td>[Black, 7\" IPS, Quad-Core 1.2GHz, 8GB, Android...</td>\n",
       "      <td>[$88.99]</td>\n",
       "    </tr>\n",
       "    <tr>\n",
       "      <th>6</th>\n",
       "      <td>[16GB, White]</td>\n",
       "      <td>[$251.99]</td>\n",
       "    </tr>\n",
       "    <tr>\n",
       "      <th>7</th>\n",
       "      <td>[Blue, 7\" IPS, Quad-Core 1.3GHz, 8GB, 3G, Andr...</td>\n",
       "      <td>[$148.99]</td>\n",
       "    </tr>\n",
       "    <tr>\n",
       "      <th>8</th>\n",
       "      <td>[7\", 8GB, Wi-Fi, Android 4.2, White]</td>\n",
       "      <td>[$97.99]</td>\n",
       "    </tr>\n",
       "    <tr>\n",
       "      <th>9</th>\n",
       "      <td>[12.2\", 32GB, WiFi, Android 4.4, White]</td>\n",
       "      <td>[$489.99]</td>\n",
       "    </tr>\n",
       "    <tr>\n",
       "      <th>10</th>\n",
       "      <td>[White, 7\", Atom 1.2GHz, 8GB, Android 4.4]</td>\n",
       "      <td>[$130.99]</td>\n",
       "    </tr>\n",
       "    <tr>\n",
       "      <th>11</th>\n",
       "      <td>[LTE (SM-T235), Quad-Core 1.2GHz, 8GB, Black]</td>\n",
       "      <td>[$233.99]</td>\n",
       "    </tr>\n",
       "    <tr>\n",
       "      <th>12</th>\n",
       "      <td>[7\", 8GB, Wi-Fi, Android 4.2, Yellow]</td>\n",
       "      <td>[$107.99]</td>\n",
       "    </tr>\n",
       "    <tr>\n",
       "      <th>13</th>\n",
       "      <td>[IPS, Dual-Core 1.2GHz, 8GB, Android 4.3]</td>\n",
       "      <td>[$101.99]</td>\n",
       "    </tr>\n",
       "    <tr>\n",
       "      <th>14</th>\n",
       "      <td>[10.1\", 32GB, Black]</td>\n",
       "      <td>[$587.99]</td>\n",
       "    </tr>\n",
       "    <tr>\n",
       "      <th>15</th>\n",
       "      <td>[White, 10.1\" IPS, 1.6GHz, 2GB, 16GB, Android ...</td>\n",
       "      <td>[$320.99]</td>\n",
       "    </tr>\n",
       "    <tr>\n",
       "      <th>16</th>\n",
       "      <td>[Silver, 7\" IPS, Quad-Core 1.2Ghz, 16GB, 3G, A...</td>\n",
       "      <td>[$172.99]</td>\n",
       "    </tr>\n",
       "    <tr>\n",
       "      <th>17</th>\n",
       "      <td>[Black, 7\", 1.6GHz Dual-Core, 8GB, Android 4.4]</td>\n",
       "      <td>[$99.99]</td>\n",
       "    </tr>\n",
       "  </tbody>\n",
       "</table>\n",
       "</div>"
      ],
      "text/plain": [
       "                                              Product      Price\n",
       "0                                [7\" screen, Android]   [$69.99]\n",
       "1                          [7\" screen, Android, 16GB]   [$96.99]\n",
       "2                           [7\" screen, Android, 8GB]  [$102.99]\n",
       "3                                   [6\" screen, wifi]  [$103.99]\n",
       "4                    [Wi-Fi + Cellular, 32GB, Silver]  [$537.99]\n",
       "5   [Black, 7\" IPS, Quad-Core 1.2GHz, 8GB, Android...   [$88.99]\n",
       "6                                       [16GB, White]  [$251.99]\n",
       "7   [Blue, 7\" IPS, Quad-Core 1.3GHz, 8GB, 3G, Andr...  [$148.99]\n",
       "8                [7\", 8GB, Wi-Fi, Android 4.2, White]   [$97.99]\n",
       "9             [12.2\", 32GB, WiFi, Android 4.4, White]  [$489.99]\n",
       "10         [White, 7\", Atom 1.2GHz, 8GB, Android 4.4]  [$130.99]\n",
       "11      [LTE (SM-T235), Quad-Core 1.2GHz, 8GB, Black]  [$233.99]\n",
       "12              [7\", 8GB, Wi-Fi, Android 4.2, Yellow]  [$107.99]\n",
       "13          [IPS, Dual-Core 1.2GHz, 8GB, Android 4.3]  [$101.99]\n",
       "14                               [10.1\", 32GB, Black]  [$587.99]\n",
       "15  [White, 10.1\" IPS, 1.6GHz, 2GB, 16GB, Android ...  [$320.99]\n",
       "16  [Silver, 7\" IPS, Quad-Core 1.2Ghz, 16GB, 3G, A...  [$172.99]\n",
       "17    [Black, 7\", 1.6GHz Dual-Core, 8GB, Android 4.4]   [$99.99]"
      ]
     },
     "execution_count": 110,
     "metadata": {},
     "output_type": "execute_result"
    }
   ],
   "source": [
    "dataset = pd.DataFrame({'Product': product_title_arr, 'Price': product_price_arr}, columns=['Product', 'Price'])\n",
    "dataset\n"
   ]
  },
  {
   "cell_type": "code",
   "execution_count": null,
   "id": "9b148e04",
   "metadata": {},
   "outputs": [],
   "source": []
  },
  {
   "cell_type": "code",
   "execution_count": null,
   "id": "2c0cbfa1",
   "metadata": {},
   "outputs": [],
   "source": []
  },
  {
   "cell_type": "code",
   "execution_count": null,
   "id": "03334d51",
   "metadata": {},
   "outputs": [],
   "source": []
  },
  {
   "cell_type": "code",
   "execution_count": null,
   "id": "0c210e12",
   "metadata": {},
   "outputs": [],
   "source": [
    "clear_arr()"
   ]
  },
  {
   "cell_type": "code",
   "execution_count": 80,
   "id": "6379ef3e",
   "metadata": {},
   "outputs": [],
   "source": [
    "def export_csv(filename):\n",
    "    dataset.to_csv(f'{filename}')\n",
    "    print(f\"{filename} exported successfully!\")\n"
   ]
  },
  {
   "cell_type": "code",
   "execution_count": 81,
   "id": "2a572b60",
   "metadata": {},
   "outputs": [
    {
     "name": "stdout",
     "output_type": "stream",
     "text": [
      "TEST.csv exported successfully!\n"
     ]
    }
   ],
   "source": [
    "export_csv(\"TEST.csv\")"
   ]
  }
 ],
 "metadata": {
  "kernelspec": {
   "display_name": "Python 3 (ipykernel)",
   "language": "python",
   "name": "python3"
  },
  "language_info": {
   "codemirror_mode": {
    "name": "ipython",
    "version": 3
   },
   "file_extension": ".py",
   "mimetype": "text/x-python",
   "name": "python",
   "nbconvert_exporter": "python",
   "pygments_lexer": "ipython3",
   "version": "3.9.13"
  }
 },
 "nbformat": 4,
 "nbformat_minor": 5
}
